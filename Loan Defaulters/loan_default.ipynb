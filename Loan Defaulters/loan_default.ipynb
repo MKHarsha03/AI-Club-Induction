{
 "cells": [
  {
   "cell_type": "code",
   "execution_count": 518,
   "metadata": {},
   "outputs": [
    {
     "name": "stdout",
     "output_type": "stream",
     "text": [
      "loan_id               int64\n",
      "age                   int64\n",
      "education           float64\n",
      "proof_submitted      object\n",
      "loan_amount         float64\n",
      "asset_cost          float64\n",
      "no_of_loans           int64\n",
      "no_of_curr_loans      int64\n",
      "last_delinq_none      int64\n",
      "loan_default          int64\n",
      "dtype: object\n"
     ]
    }
   ],
   "source": [
    "import pandas as pd\n",
    "training_data_filepath=\"training_data.csv\"\n",
    "training_data2_filepath=\"train_LZV4RXX.csv\"\n",
    "testing_data_filepath=\"test_data.csv\"\n",
    "train_data=pd.read_csv(training_data_filepath)\n",
    "train_data_2=pd.read_csv(training_data2_filepath)\n",
    "train_data=pd.concat([train_data,train_data_2],axis=0)\n",
    "test_data=pd.read_csv(testing_data_filepath)\n",
    "features=['loan_id','age','education','proof_submitted','loan_amount','asset_cost','no_of_loans','no_of_curr_loans','last_delinq_none']\n",
    "print(train_data.dtypes)"
   ]
  },
  {
   "cell_type": "code",
   "execution_count": 519,
   "metadata": {},
   "outputs": [
    {
     "name": "stdout",
     "output_type": "stream",
     "text": [
      "      loan_id age education proof_submitted loan_amount asset_cost  \\\n",
      "0        1033  28       1.0          Aadhar    777600.0   961200.0   \n",
      "1        6340  39       2.0          Aadhar    463848.0  1046532.0   \n",
      "2        3887  27       2.0          Aadhar    654984.0   865380.0   \n",
      "3        2654  29       2.0         VoterID    691716.0   867792.0   \n",
      "4        6915  37       1.0          Aadhar    796584.0   961200.0   \n",
      "...       ...  ..       ...             ...         ...        ...   \n",
      "12615    6996  45       2.0          Aadhar    930948.0  1258344.0   \n",
      "12616    6997  41       2.0          Aadhar    681108.0   791040.0   \n",
      "12617    6998  47       2.0          Aadhar    627636.0   720336.0   \n",
      "12618    6999  39       1.0          Aadhar    654708.0   793860.0   \n",
      "12619    7000  31       1.0          Aadhar    705108.0   900660.0   \n",
      "\n",
      "      no_of_loans no_of_curr_loans last_delinq_none  \n",
      "0               0                0                0  \n",
      "1               5                3                0  \n",
      "2               2                0                0  \n",
      "3               0                0                0  \n",
      "4               0                0                0  \n",
      "...           ...              ...              ...  \n",
      "12615           0                0                0  \n",
      "12616           4                4                0  \n",
      "12617          35               11                0  \n",
      "12618           0                0                0  \n",
      "12619           0                0                0  \n",
      "\n",
      "[12620 rows x 9 columns]\n"
     ]
    }
   ],
   "source": [
    "from sklearn.impute import SimpleImputer\n",
    "imputer=SimpleImputer(strategy='constant',fill_value=0)\n",
    "imputed_train_data=pd.DataFrame(imputer.fit_transform(train_data[features]))\n",
    "imputed_test_data=pd.DataFrame(imputer.transform(test_data[features]))\n",
    "imputed_train_data.columns=features\n",
    "imputed_test_data.columns=features\n",
    "print(imputed_train_data)"
   ]
  },
  {
   "cell_type": "code",
   "execution_count": 520,
   "metadata": {},
   "outputs": [],
   "source": [
    "from sklearn.preprocessing import MinMaxScaler\n",
    "scaler=MinMaxScaler()\n",
    "scale_cols=['loan_amount','asset_cost']\n",
    "scaled_data=(scaler.fit_transform(imputed_train_data[scale_cols]))\n",
    "scaled_test_data=(scaler.transform(imputed_test_data[scale_cols]))\n",
    "imputed_train_data[scale_cols]=scaled_data\n",
    "imputed_test_data[scale_cols]=scaled_test_data"
   ]
  },
  {
   "cell_type": "code",
   "execution_count": 521,
   "metadata": {},
   "outputs": [
    {
     "name": "stderr",
     "output_type": "stream",
     "text": [
      "C:\\Users\\khmam\\AppData\\Local\\Packages\\PythonSoftwareFoundation.Python.3.11_qbz5n2kfra8p0\\LocalCache\\local-packages\\Python311\\site-packages\\sklearn\\preprocessing\\_encoders.py:972: FutureWarning: `sparse` was renamed to `sparse_output` in version 1.2 and will be removed in 1.4. `sparse_output` is ignored unless you leave `sparse` to its default value.\n",
      "  warnings.warn(\n"
     ]
    }
   ],
   "source": [
    "from sklearn.preprocessing import OneHotEncoder\n",
    "encoder=OneHotEncoder(handle_unknown='ignore',sparse=False)\n",
    "object_cols=['proof_submitted']\n",
    "encoded_train_data=pd.DataFrame(encoder.fit_transform(imputed_train_data[object_cols]),columns=encoder.get_feature_names_out(['proof_submitted']))\n",
    "encoded_train_data.columns = encoded_train_data.columns.astype(str)\n",
    "encoded_test_data=pd.DataFrame(encoder.transform(imputed_test_data[object_cols]),columns=encoder.get_feature_names_out(['proof_submitted']))\n",
    "encoded_test_data.columns=encoded_test_data.columns.astype(str)\n"
   ]
  },
  {
   "cell_type": "code",
   "execution_count": 522,
   "metadata": {},
   "outputs": [
    {
     "name": "stdout",
     "output_type": "stream",
     "text": [
      "      loan_id age education  loan_amount  asset_cost no_of_loans  \\\n",
      "0        1033  28       1.0     0.377888    0.250712           0   \n",
      "1        6340  39       2.0     0.183433    0.294566           5   \n",
      "2        3887  27       2.0     0.301894    0.201469           2   \n",
      "3        2654  29       2.0     0.324659    0.202709           0   \n",
      "4        6915  37       1.0     0.389653    0.250712           0   \n",
      "...       ...  ..       ...          ...         ...         ...   \n",
      "12615    6996  45       2.0     0.472928    0.403419           0   \n",
      "12616    6997  41       2.0     0.318084    0.163265           4   \n",
      "12617    6998  47       2.0     0.284944    0.126929          35   \n",
      "12618    6999  39       1.0     0.301722    0.164714           0   \n",
      "12619    7000  31       1.0     0.332959    0.219600           0   \n",
      "\n",
      "      no_of_curr_loans last_delinq_none  proof_submitted_Aadhar  \\\n",
      "0                    0                0                     1.0   \n",
      "1                    3                0                     1.0   \n",
      "2                    0                0                     1.0   \n",
      "3                    0                0                     0.0   \n",
      "4                    0                0                     1.0   \n",
      "...                ...              ...                     ...   \n",
      "12615                0                0                     1.0   \n",
      "12616                4                0                     1.0   \n",
      "12617               11                0                     1.0   \n",
      "12618                0                0                     1.0   \n",
      "12619                0                0                     1.0   \n",
      "\n",
      "       proof_submitted_Driving  proof_submitted_Other  proof_submitted_PAN  \\\n",
      "0                          0.0                    0.0                  0.0   \n",
      "1                          0.0                    0.0                  0.0   \n",
      "2                          0.0                    0.0                  0.0   \n",
      "3                          0.0                    0.0                  0.0   \n",
      "4                          0.0                    0.0                  0.0   \n",
      "...                        ...                    ...                  ...   \n",
      "12615                      0.0                    0.0                  0.0   \n",
      "12616                      0.0                    0.0                  0.0   \n",
      "12617                      0.0                    0.0                  0.0   \n",
      "12618                      0.0                    0.0                  0.0   \n",
      "12619                      0.0                    0.0                  0.0   \n",
      "\n",
      "       proof_submitted_PANDriving  proof_submitted_Passport  \\\n",
      "0                             0.0                       0.0   \n",
      "1                             0.0                       0.0   \n",
      "2                             0.0                       0.0   \n",
      "3                             0.0                       0.0   \n",
      "4                             0.0                       0.0   \n",
      "...                           ...                       ...   \n",
      "12615                         0.0                       0.0   \n",
      "12616                         0.0                       0.0   \n",
      "12617                         0.0                       0.0   \n",
      "12618                         0.0                       0.0   \n",
      "12619                         0.0                       0.0   \n",
      "\n",
      "       proof_submitted_VoterID  \n",
      "0                          0.0  \n",
      "1                          0.0  \n",
      "2                          0.0  \n",
      "3                          1.0  \n",
      "4                          0.0  \n",
      "...                        ...  \n",
      "12615                      0.0  \n",
      "12616                      0.0  \n",
      "12617                      0.0  \n",
      "12618                      0.0  \n",
      "12619                      0.0  \n",
      "\n",
      "[12620 rows x 15 columns]\n"
     ]
    }
   ],
   "source": [
    "imputed_train_data=imputed_train_data.drop(object_cols,axis=1)\n",
    "imputed_test_data=imputed_test_data.drop(object_cols,axis=1)\n",
    "total_train_data=pd.concat([imputed_train_data,encoded_train_data],axis=1)\n",
    "total_test_data=pd.concat([imputed_test_data,encoded_test_data],axis=1)\n",
    "print(total_train_data)"
   ]
  },
  {
   "cell_type": "code",
   "execution_count": 523,
   "metadata": {},
   "outputs": [
    {
     "name": "stdout",
     "output_type": "stream",
     "text": [
      "       loan_id   age  education  loan_amount  asset_cost  no_of_loans  \\\n",
      "0       1033.0  28.0        1.0     0.377888    0.250712          0.0   \n",
      "1       6340.0  39.0        2.0     0.183433    0.294566          5.0   \n",
      "2       3887.0  27.0        2.0     0.301894    0.201469          2.0   \n",
      "3       2654.0  29.0        2.0     0.324659    0.202709          0.0   \n",
      "4       6915.0  37.0        1.0     0.389653    0.250712          0.0   \n",
      "...        ...   ...        ...          ...         ...          ...   \n",
      "12615   6996.0  45.0        2.0     0.472928    0.403419          0.0   \n",
      "12616   6997.0  41.0        2.0     0.318084    0.163265          4.0   \n",
      "12617   6998.0  47.0        2.0     0.284944    0.126929         35.0   \n",
      "12618   6999.0  39.0        1.0     0.301722    0.164714          0.0   \n",
      "12619   7000.0  31.0        1.0     0.332959    0.219600          0.0   \n",
      "\n",
      "       no_of_curr_loans  last_delinq_none  proof_submitted_Aadhar  \\\n",
      "0                   0.0               0.0                     1.0   \n",
      "1                   3.0               0.0                     1.0   \n",
      "2                   0.0               0.0                     1.0   \n",
      "3                   0.0               0.0                     0.0   \n",
      "4                   0.0               0.0                     1.0   \n",
      "...                 ...               ...                     ...   \n",
      "12615               0.0               0.0                     1.0   \n",
      "12616               4.0               0.0                     1.0   \n",
      "12617              11.0               0.0                     1.0   \n",
      "12618               0.0               0.0                     1.0   \n",
      "12619               0.0               0.0                     1.0   \n",
      "\n",
      "       proof_submitted_Driving  proof_submitted_Other  proof_submitted_PAN  \\\n",
      "0                          0.0                    0.0                  0.0   \n",
      "1                          0.0                    0.0                  0.0   \n",
      "2                          0.0                    0.0                  0.0   \n",
      "3                          0.0                    0.0                  0.0   \n",
      "4                          0.0                    0.0                  0.0   \n",
      "...                        ...                    ...                  ...   \n",
      "12615                      0.0                    0.0                  0.0   \n",
      "12616                      0.0                    0.0                  0.0   \n",
      "12617                      0.0                    0.0                  0.0   \n",
      "12618                      0.0                    0.0                  0.0   \n",
      "12619                      0.0                    0.0                  0.0   \n",
      "\n",
      "       proof_submitted_PANDriving  proof_submitted_Passport  \\\n",
      "0                             0.0                       0.0   \n",
      "1                             0.0                       0.0   \n",
      "2                             0.0                       0.0   \n",
      "3                             0.0                       0.0   \n",
      "4                             0.0                       0.0   \n",
      "...                           ...                       ...   \n",
      "12615                         0.0                       0.0   \n",
      "12616                         0.0                       0.0   \n",
      "12617                         0.0                       0.0   \n",
      "12618                         0.0                       0.0   \n",
      "12619                         0.0                       0.0   \n",
      "\n",
      "       proof_submitted_VoterID  \n",
      "0                          0.0  \n",
      "1                          0.0  \n",
      "2                          0.0  \n",
      "3                          1.0  \n",
      "4                          0.0  \n",
      "...                        ...  \n",
      "12615                      0.0  \n",
      "12616                      0.0  \n",
      "12617                      0.0  \n",
      "12618                      0.0  \n",
      "12619                      0.0  \n",
      "\n",
      "[12620 rows x 15 columns]\n"
     ]
    }
   ],
   "source": [
    "X=total_train_data\n",
    "X=X.astype('float64')\n",
    "y=train_data.loan_default\n",
    "#y=y.astype('int64')\n",
    "from sklearn.model_selection import train_test_split\n",
    "X_train,X_valid,y_train,y_valid=train_test_split(X,y,test_size=0.2)\n",
    "print(X)"
   ]
  },
  {
   "cell_type": "code",
   "execution_count": 532,
   "metadata": {},
   "outputs": [
    {
     "name": "stderr",
     "output_type": "stream",
     "text": [
      "C:\\Users\\khmam\\AppData\\Local\\Packages\\PythonSoftwareFoundation.Python.3.11_qbz5n2kfra8p0\\LocalCache\\local-packages\\Python311\\site-packages\\xgboost\\data.py:335: FutureWarning: is_sparse is deprecated and will be removed in a future version. Check `isinstance(dtype, pd.SparseDtype)` instead.\n",
      "  if is_sparse(dtype):\n",
      "C:\\Users\\khmam\\AppData\\Local\\Packages\\PythonSoftwareFoundation.Python.3.11_qbz5n2kfra8p0\\LocalCache\\local-packages\\Python311\\site-packages\\xgboost\\data.py:338: FutureWarning: is_categorical_dtype is deprecated and will be removed in a future version. Use isinstance(dtype, CategoricalDtype) instead\n",
      "  is_categorical_dtype(dtype) or is_pa_ext_categorical_dtype(dtype)\n",
      "C:\\Users\\khmam\\AppData\\Local\\Packages\\PythonSoftwareFoundation.Python.3.11_qbz5n2kfra8p0\\LocalCache\\local-packages\\Python311\\site-packages\\xgboost\\data.py:384: FutureWarning: is_categorical_dtype is deprecated and will be removed in a future version. Use isinstance(dtype, CategoricalDtype) instead\n",
      "  if is_categorical_dtype(dtype):\n",
      "C:\\Users\\khmam\\AppData\\Local\\Packages\\PythonSoftwareFoundation.Python.3.11_qbz5n2kfra8p0\\LocalCache\\local-packages\\Python311\\site-packages\\xgboost\\data.py:359: FutureWarning: is_categorical_dtype is deprecated and will be removed in a future version. Use isinstance(dtype, CategoricalDtype) instead\n",
      "  return is_int or is_bool or is_float or is_categorical_dtype(dtype)\n",
      "C:\\Users\\khmam\\AppData\\Local\\Packages\\PythonSoftwareFoundation.Python.3.11_qbz5n2kfra8p0\\LocalCache\\local-packages\\Python311\\site-packages\\xgboost\\data.py:520: FutureWarning: is_sparse is deprecated and will be removed in a future version. Check `isinstance(dtype, pd.SparseDtype)` instead.\n",
      "  if is_sparse(data):\n"
     ]
    },
    {
     "name": "stdout",
     "output_type": "stream",
     "text": [
      "0.8660855784469097\n"
     ]
    },
    {
     "name": "stderr",
     "output_type": "stream",
     "text": [
      "C:\\Users\\khmam\\AppData\\Local\\Packages\\PythonSoftwareFoundation.Python.3.11_qbz5n2kfra8p0\\LocalCache\\local-packages\\Python311\\site-packages\\xgboost\\data.py:335: FutureWarning: is_sparse is deprecated and will be removed in a future version. Check `isinstance(dtype, pd.SparseDtype)` instead.\n",
      "  if is_sparse(dtype):\n",
      "C:\\Users\\khmam\\AppData\\Local\\Packages\\PythonSoftwareFoundation.Python.3.11_qbz5n2kfra8p0\\LocalCache\\local-packages\\Python311\\site-packages\\xgboost\\data.py:338: FutureWarning: is_categorical_dtype is deprecated and will be removed in a future version. Use isinstance(dtype, CategoricalDtype) instead\n",
      "  is_categorical_dtype(dtype) or is_pa_ext_categorical_dtype(dtype)\n",
      "C:\\Users\\khmam\\AppData\\Local\\Packages\\PythonSoftwareFoundation.Python.3.11_qbz5n2kfra8p0\\LocalCache\\local-packages\\Python311\\site-packages\\xgboost\\data.py:384: FutureWarning: is_categorical_dtype is deprecated and will be removed in a future version. Use isinstance(dtype, CategoricalDtype) instead\n",
      "  if is_categorical_dtype(dtype):\n",
      "C:\\Users\\khmam\\AppData\\Local\\Packages\\PythonSoftwareFoundation.Python.3.11_qbz5n2kfra8p0\\LocalCache\\local-packages\\Python311\\site-packages\\xgboost\\data.py:359: FutureWarning: is_categorical_dtype is deprecated and will be removed in a future version. Use isinstance(dtype, CategoricalDtype) instead\n",
      "  return is_int or is_bool or is_float or is_categorical_dtype(dtype)\n"
     ]
    }
   ],
   "source": [
    "from xgboost import XGBClassifier\n",
    "from sklearn.metrics import accuracy_score\n",
    "model=XGBClassifier(random_state = 0, n_estimators = 1000, learning_rate = 0.17, max_depth = 6)\n",
    "model.fit(X_train,y_train)\n",
    "predict=model.predict(X_valid)\n",
    "print(accuracy_score(predict,y_valid))\n"
   ]
  },
  {
   "cell_type": "markdown",
   "metadata": {},
   "source": []
  },
  {
   "cell_type": "code",
   "execution_count": null,
   "metadata": {},
   "outputs": [],
   "source": []
  }
 ],
 "metadata": {
  "kernelspec": {
   "display_name": "Python 3",
   "language": "python",
   "name": "python3"
  },
  "language_info": {
   "codemirror_mode": {
    "name": "ipython",
    "version": 3
   },
   "file_extension": ".py",
   "mimetype": "text/x-python",
   "name": "python",
   "nbconvert_exporter": "python",
   "pygments_lexer": "ipython3",
   "version": "3.11.8"
  },
  "orig_nbformat": 4
 },
 "nbformat": 4,
 "nbformat_minor": 2
}
