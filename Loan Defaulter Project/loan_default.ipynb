{
 "cells": [
  {
   "cell_type": "code",
   "execution_count": 109,
   "metadata": {},
   "outputs": [],
   "source": [
    "import pandas as pd\n",
    "training_data_filepath=\"training_data.csv\"\n",
    "training_data=pd.read_csv(training_data_filepath)\n",
    "y=training_data.loan_default\n",
    "data_features=['loan_id','age','education','proof_submitted','loan_amount','asset_cost','no_of_loans','no_of_curr_loans','last_delinq_none']\n",
    "X=training_data[data_features]"
   ]
  },
  {
   "cell_type": "code",
   "execution_count": 110,
   "metadata": {},
   "outputs": [],
   "source": [
    "from sklearn.model_selection import train_test_split\n",
    "X_train,X_valid,y_train,y_valid=train_test_split(X,y,random_state=6)\n",
    "categorical_cols=[cname for cname in X_train.columns if X_train[cname].dtype=='object']\n",
    "numerical_cols=[cname for cname in X_train.columns if X_train[cname].dtype in ['int64','float64']]\n",
    "all_cols=numerical_cols+categorical_cols\n",
    "X_train_full=X_train[all_cols].copy()\n",
    "X_valid_full=X_valid[all_cols].copy()"
   ]
  },
  {
   "cell_type": "code",
   "execution_count": 111,
   "metadata": {},
   "outputs": [],
   "source": [
    "from sklearn.compose import ColumnTransformer\n",
    "from sklearn.impute import SimpleImputer\n",
    "from sklearn.preprocessing import OneHotEncoder,MaxAbsScaler\n",
    "from sklearn.pipeline import Pipeline\n",
    "numerical_transformer=Pipeline(steps=[('imputer',SimpleImputer(strategy='mean')),('scaler',MaxAbsScaler())])\n",
    "categorical_transformer=Pipeline(steps=[\n",
    "    ('imputer',SimpleImputer(strategy='most_frequent')),('onehot',OneHotEncoder(handle_unknown='error'))\n",
    "])\n",
    "preprocessor=ColumnTransformer(\n",
    "    transformers=[\n",
    "        ('num',numerical_transformer,numerical_cols),\n",
    "        ('cat',categorical_transformer,categorical_cols)\n",
    "    ]\n",
    ")"
   ]
  },
  {
   "cell_type": "code",
   "execution_count": 112,
   "metadata": {},
   "outputs": [
    {
     "name": "stderr",
     "output_type": "stream",
     "text": [
      "C:\\Users\\khmam\\AppData\\Local\\Packages\\PythonSoftwareFoundation.Python.3.11_qbz5n2kfra8p0\\LocalCache\\local-packages\\Python311\\site-packages\\xgboost\\data.py:520: FutureWarning: is_sparse is deprecated and will be removed in a future version. Check `isinstance(dtype, pd.SparseDtype)` instead.\n",
      "  if is_sparse(data):\n"
     ]
    },
    {
     "name": "stdout",
     "output_type": "stream",
     "text": [
      "0.602846975088968\n"
     ]
    }
   ],
   "source": [
    "from xgboost import XGBClassifier\n",
    "model=XGBClassifier(n_estimators=500,learning_rate=0.01,random_state=6)\n",
    "from sklearn.metrics import accuracy_score\n",
    "my_pipeline=Pipeline(steps=[\n",
    "    ('preprocessor',preprocessor),\n",
    "    ('model',model)\n",
    "])\n",
    "my_pipeline.fit(X_train,y_train)\n",
    "preds=my_pipeline.predict(X_valid)\n",
    "score=accuracy_score(preds,y_valid)\n",
    "print(score)\n"
   ]
  },
  {
   "cell_type": "code",
   "execution_count": 113,
   "metadata": {},
   "outputs": [],
   "source": [
    "test_data_filepath=\"test_data.csv\"\n",
    "test_data=pd.read_csv(test_data_filepath)\n",
    "preds2=my_pipeline.predict(test_data)\n",
    "output = pd.DataFrame({'loan_id': test_data.loan_id,\n",
    "                       'loan_default': preds2})\n",
    "output.to_csv('submission.csv', index=False)"
   ]
  }
 ],
 "metadata": {
  "kernelspec": {
   "display_name": "Python 3",
   "language": "python",
   "name": "python3"
  },
  "language_info": {
   "codemirror_mode": {
    "name": "ipython",
    "version": 3
   },
   "file_extension": ".py",
   "mimetype": "text/x-python",
   "name": "python",
   "nbconvert_exporter": "python",
   "pygments_lexer": "ipython3",
   "version": "3.11.6"
  },
  "orig_nbformat": 4
 },
 "nbformat": 4,
 "nbformat_minor": 2
}
